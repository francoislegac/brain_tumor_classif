{
  "nbformat": 4,
  "nbformat_minor": 0,
  "metadata": {
    "colab": {
      "name": "brain_tumor_detection.ipynb",
      "provenance": [],
      "authorship_tag": "ABX9TyMDhIDLdHVWIXSvqExwq2Qi",
      "include_colab_link": true
    },
    "kernelspec": {
      "name": "python3",
      "display_name": "Python 3"
    },
    "language_info": {
      "name": "python"
    }
  },
  "cells": [
    {
      "cell_type": "markdown",
      "metadata": {
        "id": "view-in-github",
        "colab_type": "text"
      },
      "source": [
        "<a href=\"https://colab.research.google.com/github/francoislegac/brain_tumor_classif/blob/main/brain_tumor_detection.ipynb\" target=\"_parent\"><img src=\"https://colab.research.google.com/assets/colab-badge.svg\" alt=\"Open In Colab\"/></a>"
      ]
    },
    {
      "cell_type": "markdown",
      "metadata": {
        "id": "0A8IRYQi1Kqk"
      },
      "source": [
        "# Project overview and objectives\n",
        "\n",
        "Binary classification problem on Magnetic resonance imaging (MRI) scans: the patient has a tumor or not?\n",
        "\n",
        "Evaluation metric: accuracy\n",
        "\n",
        "# Quick dataset description\n",
        "\n",
        "Encoding (NO = 0, YES = 1)\n",
        "No further info\n",
        "\n",
        "Sizes: Validation set (XXX), Test set (XXX)\n",
        "\n",
        "# Description of a brain tumor\n",
        "\n",
        "A brain tumor is a mass or growth of abnormal cells in your brain.\n",
        "\n",
        "Many different types of brain tumors exist. Some brain tumors are noncancerous (benign), and some brain tumors are cancerous (malignant). Brain tumors can begin in your brain (primary brain tumors), or cancer can begin in other parts of your body and spread to your brain (secondary, or metastatic, brain tumors).\n",
        "\n",
        "How quickly a brain tumor grows can vary greatly. The growth rate as well as location of a brain tumor determines how it will affect the function of your nervous system.\n",
        "\n"
      ]
    },
    {
      "cell_type": "code",
      "metadata": {
        "id": "MY09KYve3xEf"
      },
      "source": [
        ""
      ],
      "execution_count": null,
      "outputs": []
    }
  ]
}